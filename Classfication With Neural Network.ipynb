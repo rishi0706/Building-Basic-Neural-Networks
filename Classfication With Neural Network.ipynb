{
 "cells": [
  {
   "attachments": {},
   "cell_type": "markdown",
   "metadata": {},
   "source": [
    "# Building a Classfication model with neural networks"
   ]
  },
  {
   "attachments": {},
   "cell_type": "markdown",
   "metadata": {},
   "source": [
    "### 1. Importing Libraries"
   ]
  },
  {
   "cell_type": "code",
   "execution_count": 1,
   "metadata": {},
   "outputs": [],
   "source": [
    "import numpy as np\n",
    "import matplotlib.pyplot as plt\n",
    "from matplotlib import colors\n",
    "\n",
    "%matplotlib inline\n",
    "\n",
    "np.random.seed(1234)"
   ]
  },
  {
   "attachments": {},
   "cell_type": "markdown",
   "metadata": {},
   "source": [
    "### 2. Dataset"
   ]
  },
  {
   "cell_type": "code",
   "execution_count": 2,
   "metadata": {},
   "outputs": [
    {
     "name": "stdout",
     "output_type": "stream",
     "text": [
      "Training dataset X containing (x1, x2) coordinates in the columns:\n",
      "[[1 1 0 1 0 0 0 1 1 1 1 1 0 0 1 0 0 0 0 0 0 0 0 0 1 0 1 1 0 0]\n",
      " [1 0 0 1 0 1 0 0 0 1 1 1 0 1 1 0 1 0 1 0 1 1 1 1 0 1 0 1 1 0]]\n",
      "Training dataset Y containing labels of two classes (0: blue, 1: red)\n",
      "[[0 0 0 0 0 1 0 0 0 0 0 0 0 1 0 0 1 0 1 0 1 1 1 1 0 1 0 0 1 0]]\n",
      "The shape of X is: (2, 30)\n",
      "The shape of Y is: (1, 30)\n",
      "Number of training examples = 30\n"
     ]
    }
   ],
   "source": [
    "m = 30\n",
    "\n",
    "X = np.random.randint(0, 2, (2, m))\n",
    "Y = np.logical_and(X[0] == 0, X[1] == 1).astype(int).reshape((1, m))\n",
    "\n",
    "print('Training dataset X containing (x1, x2) coordinates in the columns:')\n",
    "print(X)\n",
    "print('Training dataset Y containing labels of two classes (0: blue, 1: red)')\n",
    "print(Y)\n",
    "\n",
    "print ('The shape of X is: ' + str(X.shape))\n",
    "print ('The shape of Y is: ' + str(Y.shape))\n",
    "print ('Number of training examples = ' + str(X.shape[1]))"
   ]
  },
  {
   "attachments": {},
   "cell_type": "markdown",
   "metadata": {},
   "source": [
    "### 2. Defining Activation Function"
   ]
  },
  {
   "cell_type": "code",
   "execution_count": 3,
   "metadata": {},
   "outputs": [
    {
     "name": "stdout",
     "output_type": "stream",
     "text": [
      "sigmoid(-2) = 0.11920292202211755\n",
      "sigmoid(0) = 0.5\n",
      "sigmoid(3.5) = 0.9706877692486436\n"
     ]
    }
   ],
   "source": [
    "def sigmoid(z):\n",
    "    return 1/(1 + np.exp(-z))\n",
    "\n",
    "print(\"sigmoid(-2) = \" + str(sigmoid(-2)))\n",
    "print(\"sigmoid(0) = \" + str(sigmoid(0)))\n",
    "print(\"sigmoid(3.5) = \" + str(sigmoid(3.5)))"
   ]
  },
  {
   "attachments": {},
   "cell_type": "markdown",
   "metadata": {},
   "source": [
    "# 3.Implementing Neural Network"
   ]
  },
  {
   "attachments": {},
   "cell_type": "markdown",
   "metadata": {},
   "source": [
    "### 3.1 - Defining the Neural Network Structure"
   ]
  },
  {
   "cell_type": "code",
   "execution_count": 4,
   "metadata": {},
   "outputs": [
    {
     "name": "stdout",
     "output_type": "stream",
     "text": [
      "The size of the input layer is: n_x = 2\n",
      "The size of the output layer is: n_y = 1\n"
     ]
    }
   ],
   "source": [
    "def layer_sizes(X, Y):\n",
    "    \"\"\"\n",
    "    Args:\n",
    "    X -- input dataset\n",
    "    Y -- labels\n",
    "    \n",
    "    Returns:\n",
    "    n_x -- size of input layer\n",
    "    n_y -- size of output layer\n",
    "    \"\"\"\n",
    "    \n",
    "    n_x = X.shape[0]\n",
    "    n_y = Y.shape[0]\n",
    "    \n",
    "    return (n_x, n_y)\n",
    "\n",
    "(n_x, n_y) = layer_sizes(X, Y)\n",
    "print(\"The size of the input layer is: n_x = \" + str(n_x))\n",
    "print(\"The size of the output layer is: n_y = \" + str(n_y))"
   ]
  },
  {
   "attachments": {},
   "cell_type": "markdown",
   "metadata": {},
   "source": [
    "### 3.2 Initializing Model Parameters"
   ]
  },
  {
   "cell_type": "code",
   "execution_count": 5,
   "metadata": {},
   "outputs": [
    {
     "name": "stdout",
     "output_type": "stream",
     "text": [
      "W = [[0.00869127 0.00436173]]\n",
      "b = [[0.]]\n"
     ]
    }
   ],
   "source": [
    "def initialize_parameters(n_x, n_y):\n",
    "    \"\"\"\n",
    "    Args:\n",
    "        n_x -- size of input layer\n",
    "        n_y -- size of output layer\n",
    "    \n",
    "    Returns:\n",
    "    parameters -- python dict containing:\n",
    "                        W -- weights matrix for neural network\n",
    "                        b -- bias value set as vector\n",
    "    \"\"\"\n",
    "    \n",
    "    W = np.random.rand(n_y, n_x) * 0.01\n",
    "    b = np.zeros((n_y, 1))\n",
    "    \n",
    "    parameters = {\"W\" : W,\n",
    "                  \"b\" : b}\n",
    "    \n",
    "    return parameters\n",
    "\n",
    "parameters = initialize_parameters(n_x, n_y)\n",
    "print(\"W = \" + str(parameters[\"W\"]))\n",
    "print(\"b = \" + str(parameters[\"b\"]))"
   ]
  },
  {
   "attachments": {},
   "cell_type": "markdown",
   "metadata": {},
   "source": [
    "### 3.3 Forward Propagation And Backward Propagation"
   ]
  },
  {
   "attachments": {},
   "cell_type": "markdown",
   "metadata": {},
   "source": [
    "Implementing `forward_propagation()` following the equation:\n",
    "\\begin{align}\n",
    "Z &=  W X + b,\\\\\n",
    "A &= \\sigma\\left(Z\\right).\n",
    "\\end{align}"
   ]
  },
  {
   "cell_type": "code",
   "execution_count": 6,
   "metadata": {},
   "outputs": [
    {
     "name": "stdout",
     "output_type": "stream",
     "text": [
      "Output vector A: [[0.50326321 0.5021728  0.5        0.50326321 0.5        0.50109043\n",
      "  0.5        0.5021728  0.5021728  0.50326321 0.50326321 0.50326321\n",
      "  0.5        0.50109043 0.50326321 0.5        0.50109043 0.5\n",
      "  0.50109043 0.5        0.50109043 0.50109043 0.50109043 0.50109043\n",
      "  0.5021728  0.50109043 0.5021728  0.50326321 0.50109043 0.5       ]]\n"
     ]
    }
   ],
   "source": [
    "def forward_propagation(X, parameters):\n",
    "    \"\"\"\n",
    "    Args:\n",
    "        X -- input data\n",
    "        parameters -- python dict containing:\n",
    "                        W -- weights matrix for neural network\n",
    "                        b -- bias value set as vector\n",
    "    Returns:\n",
    "        A -- The output\n",
    "    \"\"\"\n",
    "    W = parameters[\"W\"]\n",
    "    b = parameters[\"b\"]\n",
    "    \n",
    "    # Forward Propagation to calculate Z\n",
    "    Z = np.matmul(W, X) + b\n",
    "    A = sigmoid(Z)\n",
    "    \n",
    "    return A\n",
    "\n",
    "A = forward_propagation(X, parameters)\n",
    "\n",
    "print(\"Output vector A:\", A)"
   ]
  },
  {
   "attachments": {},
   "cell_type": "markdown",
   "metadata": {},
   "source": [
    "Computing cost using `computing_cost()` to update parameters"
   ]
  },
  {
   "cell_type": "code",
   "execution_count": 7,
   "metadata": {},
   "outputs": [
    {
     "name": "stdout",
     "output_type": "stream",
     "text": [
      "cost = 0.6946746844429882\n"
     ]
    }
   ],
   "source": [
    "def compute_cost(A, Y):\n",
    "    # Computes the log loss\n",
    "    \"\"\"\n",
    "    Args:\n",
    "        A -- The output of the neural network\n",
    "        Y -- Orginal output values to the input\n",
    "        \n",
    "    Returns:\n",
    "    cost -- log loss\n",
    "    \"\"\"\n",
    "    \n",
    "    m = Y.shape[1]\n",
    "    \n",
    "    # Computing Cost\n",
    "    logprobs = - np.multiply(np.log(A), Y) - np.multiply(np.log(1 - A), 1 - Y)\n",
    "    cost = 1/m * np.sum(logprobs)\n",
    "    \n",
    "    return cost\n",
    "\n",
    "print(\"cost = \" + str(compute_cost(A, Y)))"
   ]
  },
  {
   "cell_type": "code",
   "execution_count": 8,
   "metadata": {},
   "outputs": [
    {
     "name": "stdout",
     "output_type": "stream",
     "text": [
      "dW = [[ 0.20112355 -0.04887511]]\n",
      "db = [[0.16815369]]\n"
     ]
    }
   ],
   "source": [
    "def backward_propagation(A, X, Y):\n",
    "    \"\"\"Implements the backward propagation, calculating gradients\n",
    "\n",
    "    Args:\n",
    "        A -- the output of the neural network\n",
    "        X -- input data\n",
    "        Y -- \"true\" labels vectors\n",
    "    \n",
    "    Returns:\n",
    "        grads -- pythin dice containing gradients\n",
    "    \"\"\"\n",
    "    \n",
    "    m = X.shape[1]\n",
    "    dZ = A - Y\n",
    "    dW = 1/m * np.dot(dZ, X.T)\n",
    "    db = 1/m * np.sum(dZ, axis = 1, keepdims = True)\n",
    "    \n",
    "    grads = {\"dW\" : dW,\n",
    "             \"db\" : db}\n",
    "    \n",
    "    return grads\n",
    "\n",
    "grads = backward_propagation(A, X, Y)\n",
    "\n",
    "print(\"dW = \" + str(grads[\"dW\"]))\n",
    "print(\"db = \" + str(grads[\"db\"]))"
   ]
  },
  {
   "attachments": {},
   "cell_type": "markdown",
   "metadata": {},
   "source": [
    "### 3.4 Updating Parameters"
   ]
  },
  {
   "cell_type": "code",
   "execution_count": 9,
   "metadata": {},
   "outputs": [
    {
     "name": "stdout",
     "output_type": "stream",
     "text": [
      "W updated = [[-0.29299405  0.0776744 ]]\n",
      "b updated = [[-0.25223054]]\n"
     ]
    }
   ],
   "source": [
    "def update_parameters(parameters, grads, learning_rate = 1.5):\n",
    "    \"\"\"Update parameters using gradient descent update rule\n",
    "\n",
    "    Args:\n",
    "        parameters -- python dictionary containing parameters \n",
    "        grads -- python dictionary containing gradients \n",
    "        learning_rate -- learning rate parameter for gradient descent\n",
    "        \n",
    "    Returns:\n",
    "        parameters -- python dictionary containing updated parameters \n",
    "    \"\"\"\n",
    "    \n",
    "    W, b = parameters[\"W\"], parameters[\"b\"]\n",
    "    dW, db = grads[\"dW\"], grads[\"db\"]\n",
    "    \n",
    "    W = W - learning_rate * dW\n",
    "    b = b - learning_rate * db\n",
    "    \n",
    "    parameters = {\"W\" : W,\n",
    "                  \"b\" : b}\n",
    "    \n",
    "    return parameters\n",
    "\n",
    "parameters_updated = update_parameters(parameters, grads)\n",
    "\n",
    "print(\"W updated = \" + str(parameters_updated[\"W\"]))\n",
    "print(\"b updated = \" + str(parameters_updated[\"b\"]))"
   ]
  },
  {
   "attachments": {},
   "cell_type": "markdown",
   "metadata": {},
   "source": [
    "### 3.5 Integrating all the helper functions in `nn_model()` to make predictions"
   ]
  },
  {
   "cell_type": "code",
   "execution_count": 10,
   "metadata": {},
   "outputs": [],
   "source": [
    "def nn_model(X, Y, num_iterations, learning_rate, print_cost = False):\n",
    "    \"\"\"\n",
    "    Args:\n",
    "        X -- dataset\n",
    "        Y -- labels\n",
    "        num_iterations -- number of iterations in the loop\n",
    "        learning_rate -- learning rate parameter for gradient descent\n",
    "        print_cost -- if True, print the cost every iteration\n",
    "    \n",
    "    Returns:\n",
    "        parameters -- parameters learnt by the model. They can then be used to make predictions.\n",
    "    \"\"\"\n",
    "    n_x = layer_sizes(X, Y)[0]\n",
    "    n_y = layer_sizes(X, Y)[1]\n",
    "    parameters = initialize_parameters(n_x, n_y)\n",
    "    \n",
    "    for i in range(0, num_iterations):\n",
    "        A = forward_propagation(X, parameters)\n",
    "        cost = compute_cost(A, Y)\n",
    "        grads = backward_propagation(A, X, Y)\n",
    "        parameters = update_parameters(parameters, grads, learning_rate)\n",
    "        \n",
    "        if print_cost:\n",
    "            print(\"Cost after iteration %i: %f\" %(i, cost))\n",
    "        \n",
    "    return parameters"
   ]
  },
  {
   "cell_type": "code",
   "execution_count": 11,
   "metadata": {},
   "outputs": [
    {
     "name": "stdout",
     "output_type": "stream",
     "text": [
      "Cost after iteration 0: 0.694684\n",
      "Cost after iteration 1: 0.604666\n",
      "Cost after iteration 2: 0.550956\n",
      "Cost after iteration 3: 0.508911\n",
      "Cost after iteration 4: 0.473439\n",
      "Cost after iteration 5: 0.442817\n",
      "Cost after iteration 6: 0.416077\n",
      "Cost after iteration 7: 0.392519\n",
      "Cost after iteration 8: 0.371598\n",
      "Cost after iteration 9: 0.352885\n",
      "Cost after iteration 10: 0.336035\n",
      "Cost after iteration 11: 0.320771\n",
      "Cost after iteration 12: 0.306870\n",
      "Cost after iteration 13: 0.294147\n",
      "Cost after iteration 14: 0.282452\n",
      "Cost after iteration 15: 0.271659\n",
      "Cost after iteration 16: 0.261662\n",
      "Cost after iteration 17: 0.252373\n",
      "Cost after iteration 18: 0.243717\n",
      "Cost after iteration 19: 0.235627\n",
      "Cost after iteration 20: 0.228049\n",
      "Cost after iteration 21: 0.220934\n",
      "Cost after iteration 22: 0.214240\n",
      "Cost after iteration 23: 0.207929\n",
      "Cost after iteration 24: 0.201969\n",
      "Cost after iteration 25: 0.196331\n",
      "Cost after iteration 26: 0.190990\n",
      "Cost after iteration 27: 0.185921\n",
      "Cost after iteration 28: 0.181105\n",
      "Cost after iteration 29: 0.176523\n",
      "Cost after iteration 30: 0.172159\n",
      "Cost after iteration 31: 0.167997\n",
      "Cost after iteration 32: 0.164024\n",
      "Cost after iteration 33: 0.160226\n",
      "Cost after iteration 34: 0.156594\n",
      "Cost after iteration 35: 0.153115\n",
      "Cost after iteration 36: 0.149782\n",
      "Cost after iteration 37: 0.146584\n",
      "Cost after iteration 38: 0.143514\n",
      "Cost after iteration 39: 0.140565\n",
      "Cost after iteration 40: 0.137729\n",
      "Cost after iteration 41: 0.135001\n",
      "Cost after iteration 42: 0.132374\n",
      "Cost after iteration 43: 0.129843\n",
      "Cost after iteration 44: 0.127402\n",
      "Cost after iteration 45: 0.125048\n",
      "Cost after iteration 46: 0.122776\n",
      "Cost after iteration 47: 0.120581\n",
      "Cost after iteration 48: 0.118460\n",
      "Cost after iteration 49: 0.116409\n",
      "Cost after iteration 50: 0.114425\n",
      "Cost after iteration 51: 0.112505\n",
      "Cost after iteration 52: 0.110645\n",
      "Cost after iteration 53: 0.108843\n",
      "Cost after iteration 54: 0.107097\n",
      "Cost after iteration 55: 0.105403\n",
      "Cost after iteration 56: 0.103760\n",
      "Cost after iteration 57: 0.102166\n",
      "Cost after iteration 58: 0.100618\n",
      "Cost after iteration 59: 0.099114\n",
      "Cost after iteration 60: 0.097652\n",
      "Cost after iteration 61: 0.096232\n",
      "Cost after iteration 62: 0.094850\n",
      "Cost after iteration 63: 0.093506\n",
      "Cost after iteration 64: 0.092198\n",
      "Cost after iteration 65: 0.090925\n",
      "Cost after iteration 66: 0.089685\n",
      "Cost after iteration 67: 0.088478\n",
      "Cost after iteration 68: 0.087301\n",
      "Cost after iteration 69: 0.086154\n",
      "Cost after iteration 70: 0.085035\n",
      "Cost after iteration 71: 0.083945\n",
      "Cost after iteration 72: 0.082880\n",
      "Cost after iteration 73: 0.081842\n",
      "Cost after iteration 74: 0.080828\n",
      "Cost after iteration 75: 0.079838\n",
      "Cost after iteration 76: 0.078871\n",
      "Cost after iteration 77: 0.077927\n",
      "Cost after iteration 78: 0.077004\n",
      "Cost after iteration 79: 0.076102\n",
      "Cost after iteration 80: 0.075220\n",
      "Cost after iteration 81: 0.074358\n",
      "Cost after iteration 82: 0.073515\n",
      "Cost after iteration 83: 0.072690\n",
      "Cost after iteration 84: 0.071882\n",
      "Cost after iteration 85: 0.071092\n",
      "Cost after iteration 86: 0.070318\n",
      "Cost after iteration 87: 0.069561\n",
      "Cost after iteration 88: 0.068819\n",
      "Cost after iteration 89: 0.068092\n",
      "Cost after iteration 90: 0.067380\n",
      "Cost after iteration 91: 0.066682\n",
      "Cost after iteration 92: 0.065998\n",
      "Cost after iteration 93: 0.065328\n",
      "Cost after iteration 94: 0.064670\n",
      "Cost after iteration 95: 0.064026\n",
      "Cost after iteration 96: 0.063393\n",
      "Cost after iteration 97: 0.062773\n",
      "Cost after iteration 98: 0.062164\n",
      "Cost after iteration 99: 0.061567\n",
      "W = [[-5.30270927  4.99521286]]\n",
      "b = [[-2.52940571]]\n"
     ]
    }
   ],
   "source": [
    "parameters = nn_model(X, Y, num_iterations=100, learning_rate=1.5, print_cost=True)\n",
    "print(\"W = \" + str(parameters[\"W\"]))\n",
    "print(\"b = \" + str(parameters[\"b\"]))"
   ]
  },
  {
   "attachments": {},
   "cell_type": "markdown",
   "metadata": {},
   "source": [
    "You can see that after about $60$ iterations the cost function does keep decreasing, but not as much. It is a sign that it might be reasonable to stop training there. The final model parameters can be used to find the boundary line and for making predictions."
   ]
  },
  {
   "attachments": {},
   "cell_type": "markdown",
   "metadata": {},
   "source": [
    "### 4. Visualizing boundry line"
   ]
  },
  {
   "cell_type": "code",
   "execution_count": 12,
   "metadata": {},
   "outputs": [
    {
     "data": {
      "image/png": "[encoded data removed]",
      "text/plain": [
       "<Figure size 640x480 with 1 Axes>"
      ]
     },
     "metadata": {},
     "output_type": "display_data"
    }
   ],
   "source": [
    "def plot_decision_boundary(X, Y, parameters):\n",
    "    W, b = parameters[\"W\"], parameters[\"b\"]\n",
    "    flg, ax = plt.subplots()\n",
    "    plt.scatter(X[0, :], X[1, :], c = Y, cmap = colors.ListedColormap(['blue', 'red']));\n",
    "    x_line = np.arange(np.min(X[0, :]), np.max(X[0, :]) * 1.1, 0.1)\n",
    "    ax.plot(x_line, -W[0, 0] / W[0, 1] * x_line + -b[0,0] / W[0, 1], color = \"black\")\n",
    "    plt.plot()\n",
    "    plt.show()\n",
    "    \n",
    "plot_decision_boundary(X, Y, parameters)"
   ]
  },
  {
   "attachments": {},
   "cell_type": "markdown",
   "metadata": {},
   "source": [
    "### 5. Predicting Values"
   ]
  },
  {
   "cell_type": "code",
   "execution_count": 13,
   "metadata": {},
   "outputs": [
    {
     "name": "stdout",
     "output_type": "stream",
     "text": [
      "Coordinates (in the columns):\n",
      "[[1 1 0 0]\n",
      " [0 1 0 1]]\n",
      "Predictions:\n",
      "[[False False False  True]]\n"
     ]
    }
   ],
   "source": [
    "def predict(X, parameters):\n",
    "    \"\"\"Using the learned parameters to predict a class for each example in X\n",
    "\n",
    "    Args:\n",
    "        parameters -- python dictionary containing your parameters \n",
    "        X -- input data of size (n_x, m)\n",
    "    \n",
    "    Returns:\n",
    "        predictions -- vectr of predictions of our model\n",
    "    \"\"\"\n",
    "    A = forward_propagation(X, parameters)\n",
    "    predictions = A > 0.5\n",
    "    \n",
    "    return predictions\n",
    "\n",
    "X_pred = np.array([[1, 1, 0, 0],\n",
    "                   [0, 1, 0, 1]])\n",
    "Y_pred = predict(X_pred, parameters)\n",
    "\n",
    "print(f\"Coordinates (in the columns):\\n{X_pred}\")\n",
    "print(f\"Predictions:\\n{Y_pred}\")"
   ]
  }
 ],
 "metadata": {
  "kernelspec": {
   "display_name": "base",
   "language": "python",
   "name": "python3"
  },
  "language_info": {
   "codemirror_mode": {
    "name": "ipython",
    "version": 3
   },
   "file_extension": ".py",
   "mimetype": "text/x-python",
   "name": "python",
   "nbconvert_exporter": "python",
   "pygments_lexer": "ipython3",
   "version": "3.10.11"
  },
  "orig_nbformat": 4
 },
 "nbformat": 4,
 "nbformat_minor": 2
}
