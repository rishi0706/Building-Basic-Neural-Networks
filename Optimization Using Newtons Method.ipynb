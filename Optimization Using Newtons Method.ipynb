{
 "cells": [
  {
   "cell_type": "markdown",
   "metadata": {},
   "source": [
    "# Optimization Using Newton's Method"
   ]
  },
  {
   "cell_type": "markdown",
   "metadata": {},
   "source": [
    "Implementing Newton's method optimizing some functions in one and two variables. Also compareing Newton's method with the gradient descent, experiencing advantages and disadvantages of each of the methods."
   ]
  },
  {
   "cell_type": "markdown",
   "metadata": {},
   "source": [
    "# Packages"
   ]
  },
  {
   "cell_type": "code",
   "execution_count": 1,
   "metadata": {},
   "outputs": [],
   "source": [
    "import numpy as np\n",
    "import matplotlib.pyplot as plt\n",
    "from matplotlib.gridspec import GridSpec"
   ]
  },
  {
   "cell_type": "markdown",
   "metadata": {},
   "source": [
    "## 1 - Function in One Variable"
   ]
  },
  {
   "cell_type": "code",
   "execution_count": 3,
   "metadata": {},
   "outputs": [
    {
     "name": "stdout",
     "output_type": "stream",
     "text": [
      "f(1.6) = 4.483028795149379\n",
      "f'(1.6) = 4.328032424395115\n",
      "f''(1.6) = 5.343657424395115\n"
     ]
    }
   ],
   "source": [
    "def f_ex_1(x):\n",
    "    return np.exp(x) - np.log(x)\n",
    "\n",
    "def dfdx_ex_1(x):\n",
    "    return np.exp(x) - 1/x\n",
    "\n",
    "def d2fdx2_ex_1(x):\n",
    "    return np.exp(x) + 1/(x**2)\n",
    "\n",
    "x_0 = 1.6\n",
    "print(f\"f({x_0}) = {f_ex_1(x_0)}\")\n",
    "print(f\"f'({x_0}) = {dfdx_ex_1(x_0)}\")\n",
    "print(f\"f''({x_0}) = {d2fdx2_ex_1(x_0)}\")"
   ]
  },
  {
   "cell_type": "code",
   "execution_count": null,
   "metadata": {},
   "outputs": [],
   "source": []
  }
 ],
 "metadata": {
  "kernelspec": {
   "display_name": "base",
   "language": "python",
   "name": "python3"
  },
  "language_info": {
   "codemirror_mode": {
    "name": "ipython",
    "version": 3
   },
   "file_extension": ".py",
   "mimetype": "text/x-python",
   "name": "python",
   "nbconvert_exporter": "python",
   "pygments_lexer": "ipython3",
   "version": "3.10.11"
  },
  "orig_nbformat": 4
 },
 "nbformat": 4,
 "nbformat_minor": 2
}
