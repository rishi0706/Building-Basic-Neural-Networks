{
 "cells": [
  {
   "cell_type": "markdown",
   "metadata": {},
   "source": [
    "# Optimization Using Newton's Method"
   ]
  },
  {
   "cell_type": "markdown",
   "metadata": {},
   "source": [
    "Implementing Newton's method optimizing some functions in one and two variables. Also compareing Newton's method with the gradient descent, experiencing advantages and disadvantages of each of the methods."
   ]
  },
  {
   "cell_type": "markdown",
   "metadata": {},
   "source": [
    "# Packages"
   ]
  },
  {
   "cell_type": "code",
   "execution_count": 1,
   "metadata": {},
   "outputs": [],
   "source": [
    "import numpy as np\n",
    "import matplotlib.pyplot as plt\n",
    "from matplotlib.gridspec import GridSpec"
   ]
  },
  {
   "cell_type": "markdown",
   "metadata": {},
   "source": [
    "## 1 - Function in One Variable"
   ]
  },
  {
   "cell_type": "code",
   "execution_count": 2,
   "metadata": {},
   "outputs": [
    {
     "name": "stdout",
     "output_type": "stream",
     "text": [
      "f(1.6) = 4.483028795149379\n",
      "f'(1.6) = 4.328032424395115\n",
      "f''(1.6) = 5.343657424395115\n"
     ]
    }
   ],
   "source": [
    "def f_ex_1(x):\n",
    "    return np.exp(x) - np.log(x)\n",
    "\n",
    "def dfdx_ex_1(x):\n",
    "    return np.exp(x) - 1/x\n",
    "\n",
    "def d2fdx2_ex_1(x):\n",
    "    return np.exp(x) + 1/(x**2)\n",
    "\n",
    "x_0 = 1.6\n",
    "print(f\"f({x_0}) = {f_ex_1(x_0)}\")\n",
    "print(f\"f'({x_0}) = {dfdx_ex_1(x_0)}\")\n",
    "print(f\"f''({x_0}) = {d2fdx2_ex_1(x_0)}\")"
   ]
  },
  {
   "cell_type": "markdown",
   "metadata": {},
   "source": [
    "Plotting the function to visualize the global minimum"
   ]
  },
  {
   "cell_type": "code",
   "execution_count": 4,
   "metadata": {},
   "outputs": [
    {
     "data": {
      "text/plain": [
       "(<Figure size 800x400 with 1 Axes>, <Axes: xlabel='$x$', ylabel='$f\\\\,(x)$'>)"
      ]
     },
     "execution_count": 4,
     "metadata": {},
     "output_type": "execute_result"
    },
    {
     "data": {
      "image/png": "[encoded data removed]",
      "text/plain": [
       "<Figure size 800x400 with 1 Axes>"
      ]
     },
     "metadata": {},
     "output_type": "display_data"
    }
   ],
   "source": [
    "def plot_f(x_range, y_range, f, ox_position):\n",
    "    x = np.linspace(*x_range, 100)\n",
    "    fig, ax = plt.subplots(1,1,figsize=(8,4))\n",
    "\n",
    "    ax.set_ylim(*y_range)\n",
    "    ax.set_xlim(*x_range)\n",
    "    ax.set_ylabel('$f\\,(x)$')\n",
    "    ax.set_xlabel('$x$')\n",
    "    ax.spines['left'].set_position('zero')\n",
    "    ax.spines['bottom'].set_position(('data', ox_position))\n",
    "    ax.spines['right'].set_color('none')\n",
    "    ax.spines['top'].set_color('none')\n",
    "    ax.xaxis.set_ticks_position('bottom')\n",
    "    ax.yaxis.set_ticks_position('left')\n",
    "    ax.autoscale(enable=False)\n",
    "    \n",
    "    pf = ax.plot(x, f(x), 'k')\n",
    "    \n",
    "    return fig, ax\n",
    "\n",
    "plot_f([0.001, 2.5], [-0.3, 13], f_ex_1, 0.0)"
   ]
  },
  {
   "cell_type": "code",
   "execution_count": null,
   "metadata": {},
   "outputs": [],
   "source": []
  }
 ],
 "metadata": {
  "kernelspec": {
   "display_name": "base",
   "language": "python",
   "name": "python3"
  },
  "language_info": {
   "codemirror_mode": {
    "name": "ipython",
    "version": 3
   },
   "file_extension": ".py",
   "mimetype": "text/x-python",
   "name": "python",
   "nbconvert_exporter": "python",
   "pygments_lexer": "ipython3",
   "version": "3.10.11"
  },
  "orig_nbformat": 4
 },
 "nbformat": 4,
 "nbformat_minor": 2
}
